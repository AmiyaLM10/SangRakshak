{
  "nbformat": 4,
  "nbformat_minor": 0,
  "metadata": {
    "colab": {
      "provenance": [],
      "gpuType": "T4"
    },
    "kernelspec": {
      "name": "python3",
      "display_name": "Python 3"
    },
    "language_info": {
      "name": "python"
    },
    "accelerator": "GPU"
  },
  "cells": [
    {
      "cell_type": "code",
      "execution_count": null,
      "metadata": {
        "colab": {
          "base_uri": "https://localhost:8080/"
        },
        "id": "Uu1lnSKqcH2H",
        "outputId": "e70556b0-a581-437e-a93d-92bc5de922d8"
      },
      "outputs": [
        {
          "output_type": "stream",
          "name": "stdout",
          "text": [
            "Downloading from https://www.kaggle.com/api/v1/datasets/download/mohamedmustafa/real-life-violence-situations-dataset?dataset_version_number=1...\n"
          ]
        },
        {
          "output_type": "stream",
          "name": "stderr",
          "text": [
            "100%|██████████| 3.58G/3.58G [00:33<00:00, 116MB/s]"
          ]
        },
        {
          "output_type": "stream",
          "name": "stdout",
          "text": [
            "Extracting files...\n"
          ]
        },
        {
          "output_type": "stream",
          "name": "stderr",
          "text": [
            "\n"
          ]
        },
        {
          "output_type": "stream",
          "name": "stdout",
          "text": [
            "Path to dataset files: /root/.cache/kagglehub/datasets/mohamedmustafa/real-life-violence-situations-dataset/versions/1\n"
          ]
        }
      ],
      "source": [
        "import kagglehub\n",
        "\n",
        "# Download latest version\n",
        "path = kagglehub.dataset_download(\"mohamedmustafa/real-life-violence-situations-dataset\")\n",
        "\n",
        "print(\"Path to dataset files:\", path)"
      ]
    },
    {
      "cell_type": "code",
      "source": [
        "import os\n",
        "\n",
        "dataset_path = \"/root/.cache/kagglehub/datasets/mohamedmustafa/real-life-violence-situations-dataset/versions/1\"\n",
        "\n",
        "print(\"Subfolders:\", os.listdir(dataset_path))"
      ],
      "metadata": {
        "colab": {
          "base_uri": "https://localhost:8080/"
        },
        "id": "h7_7_6LWcWHA",
        "outputId": "3ca4e587-b9e7-4f62-914a-90b61df643ca"
      },
      "execution_count": null,
      "outputs": [
        {
          "output_type": "stream",
          "name": "stdout",
          "text": [
            "Subfolders: ['real life violence situations', 'Real Life Violence Dataset']\n"
          ]
        }
      ]
    },
    {
      "cell_type": "code",
      "source": [
        "for folder in os.listdir(dataset_path):\n",
        "    folder_path = os.path.join(dataset_path, folder)\n",
        "    if os.path.isdir(folder_path):\n",
        "        print(f\"Contents of '{folder}':\", os.listdir(folder_path))"
      ],
      "metadata": {
        "colab": {
          "base_uri": "https://localhost:8080/"
        },
        "id": "HjlSu8YQc4q4",
        "outputId": "50f93885-d5be-4881-9607-a6773e5e6280"
      },
      "execution_count": null,
      "outputs": [
        {
          "output_type": "stream",
          "name": "stdout",
          "text": [
            "Contents of 'real life violence situations': ['Real Life Violence Dataset']\n",
            "Contents of 'Real Life Violence Dataset': ['Violence', 'NonViolence']\n"
          ]
        }
      ]
    },
    {
      "cell_type": "code",
      "source": [
        "import os\n",
        "\n",
        "for category in os.listdir(dataset_path):\n",
        "    category_path = os.path.join(dataset_path, category)\n",
        "    if os.path.isdir(category_path):\n",
        "        print(f\"{category} contains {len(os.listdir(category_path))} files.\")"
      ],
      "metadata": {
        "colab": {
          "base_uri": "https://localhost:8080/"
        },
        "id": "5FedJjrrc754",
        "outputId": "f459f146-d10c-4e25-8214-09eaef4bf4a0"
      },
      "execution_count": null,
      "outputs": [
        {
          "output_type": "stream",
          "name": "stdout",
          "text": [
            "real life violence situations contains 1 files.\n",
            "Real Life Violence Dataset contains 2 files.\n"
          ]
        }
      ]
    },
    {
      "cell_type": "code",
      "source": [
        "import os\n",
        "\n",
        "dataset_path = \"/root/.cache/kagglehub/datasets/mohamedmustafa/real-life-violence-situations-dataset/versions/1/Real Life Violence Dataset\"\n",
        "\n",
        "print(\"Subfolders:\", os.listdir(dataset_path))  # Should show ['Violence', 'NonViolence']"
      ],
      "metadata": {
        "colab": {
          "base_uri": "https://localhost:8080/"
        },
        "id": "GHpTuLKedBSx",
        "outputId": "b3878608-0146-4d69-b011-c9003c6b826c"
      },
      "execution_count": null,
      "outputs": [
        {
          "output_type": "stream",
          "name": "stdout",
          "text": [
            "Subfolders: ['Violence', 'NonViolence']\n"
          ]
        }
      ]
    },
    {
      "cell_type": "code",
      "source": [
        "import os\n",
        "\n",
        "for category in [\"Violence\", \"NonViolence\"]:\n",
        "    category_path = os.path.join(dataset_path, category)\n",
        "    files = os.listdir(category_path)[:10]  # List first 10 files\n",
        "    print(f\"{category}: {files}\")"
      ],
      "metadata": {
        "colab": {
          "base_uri": "https://localhost:8080/"
        },
        "id": "zM2LJtKqdFhn",
        "outputId": "dc8b4f1e-32da-4590-cf32-8bc143761cac"
      },
      "execution_count": null,
      "outputs": [
        {
          "output_type": "stream",
          "name": "stdout",
          "text": [
            "Violence: ['V_614.mp4', 'V_415.mp4', 'V_87.mp4', 'V_659.mp4', 'V_504.mp4', 'V_740.mp4', 'V_3.mp4', 'V_351.mp4', 'V_730.mp4', 'V_600.mp4']\n",
            "NonViolence: ['NV_877.avi', 'NV_638.mp4', 'NV_430.mp4', 'NV_926.mp4', 'NV_685.mp4', 'NV_543.mp4', 'NV_719.mp4', 'NV_301.mp4', 'NV_275.mp4', 'NV_908.avi']\n"
          ]
        }
      ]
    },
    {
      "cell_type": "code",
      "source": [
        "import os\n",
        "import cv2\n",
        "import numpy as np\n",
        "import tensorflow as tf\n",
        "from tensorflow.keras.utils import Sequence\n",
        "from tensorflow.keras.models import Sequential\n",
        "from tensorflow.keras.layers import ConvLSTM2D, BatchNormalization, Dense, Flatten, TimeDistributed, Conv2D, MaxPooling2D, Dropout\n",
        "from tensorflow.keras.optimizers import Adam\n",
        "\n",
        "tf.keras.mixed_precision.set_global_policy('mixed_float16')\n",
        "\n",
        "# Define dataset path\n",
        "dataset_path = \"/root/.cache/kagglehub/datasets/mohamedmustafa/real-life-violence-situations-dataset/versions/1/Real Life Violence Dataset\"\n",
        "classes = [\"Violence\", \"NonViolence\"]\n",
        "\n",
        "SEQUENCE_LENGTH = 5\n",
        "FRAME_SIZE = (224, 224)\n",
        "BATCH_SIZE = 4\n",
        "EPOCHS = 12\n",
        "\n",
        "# Video Data Generator\n",
        "class VideoDataGenerator(Sequence):\n",
        "    def __init__(self, dataset_path, classes, batch_size=BATCH_SIZE, sequence_length=SEQUENCE_LENGTH):\n",
        "        self.dataset_path = dataset_path\n",
        "        self.classes = classes\n",
        "        self.batch_size = batch_size\n",
        "        self.sequence_length = sequence_length\n",
        "        self.video_paths = []\n",
        "        self.labels = []\n",
        "        self.prepare_data()\n",
        "\n",
        "    def prepare_data(self):\n",
        "        for label, category in enumerate(self.classes):\n",
        "            category_path = os.path.join(self.dataset_path, category)\n",
        "            for video_file in os.listdir(category_path):\n",
        "                if video_file.endswith(\".mp4\"):\n",
        "                    self.video_paths.append(os.path.join(category_path, video_file))\n",
        "                    self.labels.append(label)\n",
        "\n",
        "    def __len__(self):\n",
        "        return len(self.video_paths) // self.batch_size\n",
        "\n",
        "    def __getitem__(self, idx):\n",
        "        batch_videos = self.video_paths[idx * self.batch_size : (idx + 1) * self.batch_size]\n",
        "        batch_labels = self.labels[idx * self.batch_size : (idx + 1) * self.batch_size]\n",
        "\n",
        "        X, y = [], []\n",
        "        for video_path, label in zip(batch_videos, batch_labels):\n",
        "            cap = cv2.VideoCapture(video_path)\n",
        "            frames = []\n",
        "            success, frame = cap.read()\n",
        "            frame_count = 0\n",
        "\n",
        "            while success and len(frames) < self.sequence_length:\n",
        "                if frame_count % 3 == 0:\n",
        "                    frame = cv2.resize(frame, FRAME_SIZE)\n",
        "                    frames.append(frame)\n",
        "                frame_count += 1\n",
        "                success, frame = cap.read()\n",
        "\n",
        "            cap.release()\n",
        "\n",
        "            while len(frames) < self.sequence_length:\n",
        "                frames.append(frames[-1])\n",
        "\n",
        "            X.append(np.array(frames))\n",
        "            y.append(label)\n",
        "\n",
        "        return np.array(X) / 255.0, tf.keras.utils.to_categorical(y, num_classes=2)\n",
        "\n",
        "# Create generators\n",
        "train_generator = VideoDataGenerator(dataset_path, classes, batch_size=BATCH_SIZE, sequence_length=SEQUENCE_LENGTH)\n",
        "\n",
        "# Optimized ConvLSTM Model\n",
        "model = Sequential([\n",
        "    ConvLSTM2D(64, (3, 3), activation=\"relu\", return_sequences=True, input_shape=(SEQUENCE_LENGTH, 224, 224, 3)),\n",
        "    BatchNormalization(),\n",
        "    Dropout(0.3),\n",
        "\n",
        "    ConvLSTM2D(32, (3, 3), activation=\"relu\", return_sequences=False),\n",
        "    BatchNormalization(),\n",
        "\n",
        "    Flatten(),\n",
        "    Dense(128, activation=\"relu\"),\n",
        "    Dropout(0.5),\n",
        "    Dense(2, activation=\"softmax\")  # Binary classification\n",
        "])\n",
        "\n",
        "# Compile Model\n",
        "model.compile(optimizer=Adam(learning_rate=0.0001), loss=\"categorical_crossentropy\", metrics=[\"accuracy\"])\n",
        "\n",
        "# Train Model\n",
        "model.fit(train_generator, epochs=EPOCHS)"
      ],
      "metadata": {
        "colab": {
          "base_uri": "https://localhost:8080/"
        },
        "id": "mVpNSnXne8JB",
        "outputId": "2f06e780-80ee-4ee0-8c8d-4e1d7fa40147"
      },
      "execution_count": null,
      "outputs": [
        {
          "output_type": "stream",
          "name": "stdout",
          "text": [
            "Epoch 1/12\n",
            "\u001b[1m487/487\u001b[0m \u001b[32m━━━━━━━━━━━━━━━━━━━━\u001b[0m\u001b[37m\u001b[0m \u001b[1m137s\u001b[0m 233ms/step - accuracy: 0.5140 - loss: 7.3828\n",
            "Epoch 2/12\n",
            "\u001b[1m487/487\u001b[0m \u001b[32m━━━━━━━━━━━━━━━━━━━━\u001b[0m\u001b[37m\u001b[0m \u001b[1m120s\u001b[0m 224ms/step - accuracy: 0.5330 - loss: 7.4789\n",
            "Epoch 3/12\n",
            "\u001b[1m487/487\u001b[0m \u001b[32m━━━━━━━━━━━━━━━━━━━━\u001b[0m\u001b[37m\u001b[0m \u001b[1m110s\u001b[0m 225ms/step - accuracy: 0.5267 - loss: 7.5553\n",
            "Epoch 4/12\n",
            "\u001b[1m487/487\u001b[0m \u001b[32m━━━━━━━━━━━━━━━━━━━━\u001b[0m\u001b[37m\u001b[0m \u001b[1m111s\u001b[0m 228ms/step - accuracy: 0.5268 - loss: 7.5965\n",
            "Epoch 5/12\n",
            "\u001b[1m487/487\u001b[0m \u001b[32m━━━━━━━━━━━━━━━━━━━━\u001b[0m\u001b[37m\u001b[0m \u001b[1m109s\u001b[0m 223ms/step - accuracy: 0.5441 - loss: 7.2953\n",
            "Epoch 6/12\n",
            "\u001b[1m487/487\u001b[0m \u001b[32m━━━━━━━━━━━━━━━━━━━━\u001b[0m\u001b[37m\u001b[0m \u001b[1m110s\u001b[0m 225ms/step - accuracy: 0.5373 - loss: 7.4447\n",
            "Epoch 7/12\n",
            "\u001b[1m487/487\u001b[0m \u001b[32m━━━━━━━━━━━━━━━━━━━━\u001b[0m\u001b[37m\u001b[0m \u001b[1m109s\u001b[0m 223ms/step - accuracy: 0.5899 - loss: 6.6010\n",
            "Epoch 8/12\n",
            "\u001b[1m487/487\u001b[0m \u001b[32m━━━━━━━━━━━━━━━━━━━━\u001b[0m\u001b[37m\u001b[0m \u001b[1m109s\u001b[0m 224ms/step - accuracy: 0.5901 - loss: 6.5930\n",
            "Epoch 9/12\n",
            "\u001b[1m487/487\u001b[0m \u001b[32m━━━━━━━━━━━━━━━━━━━━\u001b[0m\u001b[37m\u001b[0m \u001b[1m110s\u001b[0m 225ms/step - accuracy: 0.5842 - loss: 6.6927\n",
            "Epoch 10/12\n",
            "\u001b[1m487/487\u001b[0m \u001b[32m━━━━━━━━━━━━━━━━━━━━\u001b[0m\u001b[37m\u001b[0m \u001b[1m142s\u001b[0m 224ms/step - accuracy: 0.5942 - loss: 6.5385\n",
            "Epoch 11/12\n",
            "\u001b[1m487/487\u001b[0m \u001b[32m━━━━━━━━━━━━━━━━━━━━\u001b[0m\u001b[37m\u001b[0m \u001b[1m110s\u001b[0m 225ms/step - accuracy: 0.5864 - loss: 6.6614\n",
            "Epoch 12/12\n",
            "\u001b[1m487/487\u001b[0m \u001b[32m━━━━━━━━━━━━━━━━━━━━\u001b[0m\u001b[37m\u001b[0m \u001b[1m109s\u001b[0m 223ms/step - accuracy: 0.5587 - loss: 7.1097\n"
          ]
        },
        {
          "output_type": "execute_result",
          "data": {
            "text/plain": [
              "<keras.src.callbacks.history.History at 0x79b9fefecc50>"
            ]
          },
          "metadata": {},
          "execution_count": 12
        }
      ]
    },
    {
      "cell_type": "code",
      "source": [
        "# Evaluate model on the training set\n",
        "loss, accuracy = model.evaluate(train_generator)\n",
        "print(f\"Training Accuracy: {accuracy * 100:.2f}%\")"
      ],
      "metadata": {
        "colab": {
          "base_uri": "https://localhost:8080/"
        },
        "id": "qA_FLqZomgIe",
        "outputId": "bc03d8b1-2c2f-4faa-8276-85e182154345"
      },
      "execution_count": null,
      "outputs": [
        {
          "output_type": "stream",
          "name": "stdout",
          "text": [
            "\u001b[1m487/487\u001b[0m \u001b[32m━━━━━━━━━━━━━━━━━━━━\u001b[0m\u001b[37m\u001b[0m \u001b[1m70s\u001b[0m 134ms/step - accuracy: 0.5580 - loss: 7.1032\n",
            "Training Accuracy: 60.52%\n"
          ]
        }
      ]
    },
    {
      "cell_type": "code",
      "source": [
        "model_path = \"/content/violence_detection_model.pth\"\n",
        "torch.save(model.state_dict(), model_path)\n",
        "print(f\"Model saved at {model_path}\")"
      ],
      "metadata": {
        "colab": {
          "base_uri": "https://localhost:8080/"
        },
        "id": "_9uWWMy0upEk",
        "outputId": "dc3a0350-a3bb-4241-a10e-854e5c3be9a4"
      },
      "execution_count": null,
      "outputs": [
        {
          "output_type": "stream",
          "name": "stdout",
          "text": [
            "Model saved at /content/violence_detection_model.pth\n"
          ]
        }
      ]
    },
    {
      "cell_type": "code",
      "source": [
        "import kagglehub\n",
        "\n",
        "# Download latest version\n",
        "path = kagglehub.dataset_download(\"jangedoo/utkface-new\")\n",
        "\n",
        "print(\"Path to dataset files:\", path)"
      ],
      "metadata": {
        "colab": {
          "base_uri": "https://localhost:8080/"
        },
        "id": "NiWKkOxGmgqt",
        "outputId": "56dfdb70-72e0-4f8c-d9b1-6bf3fa4ff59e"
      },
      "execution_count": null,
      "outputs": [
        {
          "output_type": "stream",
          "name": "stdout",
          "text": [
            "Downloading from https://www.kaggle.com/api/v1/datasets/download/jangedoo/utkface-new?dataset_version_number=1...\n"
          ]
        },
        {
          "output_type": "stream",
          "name": "stderr",
          "text": [
            "100%|██████████| 331M/331M [00:06<00:00, 53.2MB/s]"
          ]
        },
        {
          "output_type": "stream",
          "name": "stdout",
          "text": [
            "Extracting files...\n"
          ]
        },
        {
          "output_type": "stream",
          "name": "stderr",
          "text": [
            "\n"
          ]
        },
        {
          "output_type": "stream",
          "name": "stdout",
          "text": [
            "Path to dataset files: /root/.cache/kagglehub/datasets/jangedoo/utkface-new/versions/1\n"
          ]
        }
      ]
    },
    {
      "cell_type": "code",
      "source": [
        "import os\n",
        "import torch\n",
        "import torch.nn as nn\n",
        "import torch.optim as optim\n",
        "import torchvision.transforms as transforms\n",
        "from torch.utils.data import Dataset, DataLoader\n",
        "from PIL import Image\n",
        "import glob"
      ],
      "metadata": {
        "id": "FXEWi2ZWn4my"
      },
      "execution_count": null,
      "outputs": []
    },
    {
      "cell_type": "code",
      "source": [
        "class UTKFaceDataset(Dataset):\n",
        "    def __init__(self, root_dir, transform=None):\n",
        "        self.root_dir = root_dir\n",
        "        self.transform = transform\n",
        "        self.image_paths = glob.glob(os.path.join(root_dir, \"*.jpg\"))\n",
        "\n",
        "    def __len__(self):\n",
        "        return len(self.image_paths)\n",
        "\n",
        "    def __getitem__(self, idx):\n",
        "        img_path = self.image_paths[idx]\n",
        "        image = Image.open(img_path).convert(\"RGB\")\n",
        "\n",
        "        # Extract gender (filename format: age_gender_race.jpg)\n",
        "        filename = os.path.basename(img_path)\n",
        "        gender = int(filename.split(\"_\")[1])  # 0: Male, 1: Female\n",
        "\n",
        "        if self.transform:\n",
        "            image = self.transform(image)\n",
        "\n",
        "        return image, gender"
      ],
      "metadata": {
        "id": "UvRDsHt-oCdS"
      },
      "execution_count": null,
      "outputs": []
    },
    {
      "cell_type": "code",
      "source": [
        "# Define data transformations\n",
        "transform = transforms.Compose([\n",
        "    transforms.Resize((128, 128)),\n",
        "    transforms.ToTensor(),\n",
        "    transforms.Normalize(mean=[0.5], std=[0.5])\n",
        "])\n",
        "\n",
        "# Set dataset path from your download\n",
        "# Ensure this path is correct and contains the image files\n",
        "dataset_path = \"/root/.cache/kagglehub/datasets/jangedoo/utkface-new/versions/1/utkface_aligned_cropped/UTKFace\"\n",
        "\n",
        "# Load dataset\n",
        "dataset = UTKFaceDataset(dataset_path, transform=transform)\n",
        "\n",
        "# Split into train and test sets\n",
        "train_size = int(0.8 * len(dataset))\n",
        "test_size = len(dataset) - train_size\n",
        "train_dataset, test_dataset = torch.utils.data.random_split(dataset, [train_size, test_size])\n",
        "\n",
        "train_loader = DataLoader(train_dataset, batch_size=32, shuffle=True)\n",
        "test_loader = DataLoader(test_dataset, batch_size=32, shuffle=False)"
      ],
      "metadata": {
        "id": "19CDp6NYoJmr"
      },
      "execution_count": null,
      "outputs": []
    },
    {
      "cell_type": "code",
      "source": [
        "class GenderClassificationModel(nn.Module):\n",
        "    def __init__(self):\n",
        "        super(GenderClassificationModel, self).__init__()\n",
        "        self.conv_layers = nn.Sequential(\n",
        "            nn.Conv2d(3, 32, kernel_size=3, stride=1, padding=1),\n",
        "            nn.ReLU(),\n",
        "            nn.MaxPool2d(kernel_size=2, stride=2),\n",
        "\n",
        "            nn.Conv2d(32, 64, kernel_size=3, stride=1, padding=1),\n",
        "            nn.ReLU(),\n",
        "            nn.MaxPool2d(kernel_size=2, stride=2),\n",
        "\n",
        "            nn.Conv2d(64, 128, kernel_size=3, stride=1, padding=1),\n",
        "            nn.ReLU(),\n",
        "            nn.MaxPool2d(kernel_size=2, stride=2)\n",
        "        )\n",
        "\n",
        "        self.fc_layers = nn.Sequential(\n",
        "            nn.Linear(128 * 16 * 16, 128),\n",
        "            nn.ReLU(),\n",
        "            nn.Linear(128, 2)  # Output: 2 classes (Male/Female)\n",
        "        )\n",
        "\n",
        "    def forward(self, x):\n",
        "        x = self.conv_layers(x)\n",
        "        x = x.view(x.size(0), -1)  # Flatten\n",
        "        x = self.fc_layers(x)\n",
        "        return x"
      ],
      "metadata": {
        "id": "zJvHPn-YoNCZ"
      },
      "execution_count": null,
      "outputs": []
    },
    {
      "cell_type": "code",
      "source": [
        "# Initialize model, loss function, and optimizer\n",
        "device = torch.device(\"cuda\" if torch.cuda.is_available() else \"cpu\")\n",
        "model = GenderClassificationModel().to(device)\n",
        "criterion = nn.CrossEntropyLoss()\n",
        "optimizer = optim.Adam(model.parameters(), lr=0.001)\n",
        "\n",
        "# Training loop\n",
        "num_epochs = 10\n",
        "for epoch in range(num_epochs):\n",
        "    model.train()\n",
        "    total_loss = 0\n",
        "    for images, labels in train_loader:\n",
        "        images, labels = images.to(device), labels.to(device)\n",
        "\n",
        "        optimizer.zero_grad()\n",
        "        outputs = model(images)\n",
        "        loss = criterion(outputs, labels)\n",
        "        loss.backward()\n",
        "        optimizer.step()\n",
        "\n",
        "        total_loss += loss.item()\n",
        "\n",
        "    print(f\"Epoch [{epoch+1}/{num_epochs}], Loss: {total_loss/len(train_loader):.4f}\")\n",
        "\n",
        "print(\"Training complete!\")"
      ],
      "metadata": {
        "colab": {
          "base_uri": "https://localhost:8080/"
        },
        "id": "t86T748grIC6",
        "outputId": "7124d466-e6d8-4175-9342-cad5744a9aca"
      },
      "execution_count": null,
      "outputs": [
        {
          "output_type": "stream",
          "name": "stdout",
          "text": [
            "Epoch [1/10], Loss: 0.3753\n",
            "Epoch [2/10], Loss: 0.2671\n",
            "Epoch [3/10], Loss: 0.2242\n",
            "Epoch [4/10], Loss: 0.1861\n",
            "Epoch [5/10], Loss: 0.1541\n",
            "Epoch [6/10], Loss: 0.1219\n",
            "Epoch [7/10], Loss: 0.0946\n",
            "Epoch [8/10], Loss: 0.0658\n",
            "Epoch [9/10], Loss: 0.0570\n",
            "Epoch [10/10], Loss: 0.0421\n",
            "Training complete!\n"
          ]
        }
      ]
    },
    {
      "cell_type": "code",
      "source": [
        "# Evaluate the model\n",
        "model.eval()\n",
        "correct = 0\n",
        "total = 0\n",
        "with torch.no_grad():\n",
        "    for images, labels in test_loader:\n",
        "        images, labels = images.to(device), labels.to(device)\n",
        "\n",
        "        outputs = model(images)\n",
        "        _, predicted = torch.max(outputs, 1)\n",
        "        total += labels.size(0)\n",
        "        correct += (predicted == labels).sum().item()\n",
        "\n",
        "accuracy = 100 * correct / total\n",
        "print(f\"Test Accuracy: {accuracy:.2f}%\")"
      ],
      "metadata": {
        "colab": {
          "base_uri": "https://localhost:8080/"
        },
        "id": "eqyueWLLrJeD",
        "outputId": "43fcbb54-fd75-4a82-c092-98fc13836e26"
      },
      "execution_count": null,
      "outputs": [
        {
          "output_type": "stream",
          "name": "stdout",
          "text": [
            "Test Accuracy: 89.12%\n"
          ]
        }
      ]
    },
    {
      "cell_type": "code",
      "source": [
        "model_path = \"/content/gender_classification.pth\"\n",
        "torch.save(model.state_dict(), model_path)\n",
        "print(f\"Model saved at {model_path}\")\n"
      ],
      "metadata": {
        "colab": {
          "base_uri": "https://localhost:8080/"
        },
        "id": "PS7MiPhtt_a5",
        "outputId": "f91b9cc7-78d1-4418-8e18-74096d3382c9"
      },
      "execution_count": null,
      "outputs": [
        {
          "output_type": "stream",
          "name": "stdout",
          "text": [
            "Model saved at /content/gender_classification.pth\n"
          ]
        }
      ]
    }
  ]
}